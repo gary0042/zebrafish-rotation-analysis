{
 "cells": [
  {
   "cell_type": "code",
   "execution_count": 13,
   "metadata": {},
   "outputs": [],
   "source": [
    "import numpy as np\n",
    "import os\n",
    "import json\n",
    "import scipy.io as sio "
   ]
  },
  {
   "cell_type": "markdown",
   "metadata": {},
   "source": [
    "Extracts the instantaneous rotations from the `.json` files and exports it as a cell array for matlab usage."
   ]
  },
  {
   "cell_type": "code",
   "execution_count": 3,
   "metadata": {},
   "outputs": [],
   "source": [
    "# read in .json \n",
    "\n",
    "# parameters\n",
    "json_dir = r\"/home/qbio/Documents/code/Gary/rotation-analysis/dataset_12\"\n",
    "json_name = r\"dataset_12_rotation.json\"\n",
    "\n",
    "# read in stored json \n",
    "with open(os.path.join(json_dir, json_name), 'r') as f:\n",
    "    dataset = json.load(f)\n",
    "\n",
    "# sort by time if not already\n",
    "dataset = dict(sorted(dataset.items(), key=lambda x: int(x[0][4:])))\n",
    "\n",
    "# get the real time in minutes for each frame. (Assumes data is taken at 6 hpf)\n",
    "times = np.array([int(x[4:]) for x in dataset.keys()])*5 + 360\n",
    "\n",
    "# convert back necessary values back to nd_array\n",
    "for d in dataset.values():\n",
    "    d['center'] = np.array(d['center'])\n",
    "    d['rotation_to_next'] = np.array(d['rotation_to_next'])"
   ]
  },
  {
   "cell_type": "code",
   "execution_count": 8,
   "metadata": {},
   "outputs": [
    {
     "data": {
      "text/plain": [
       "array(0)"
      ]
     },
     "execution_count": 8,
     "metadata": {},
     "output_type": "execute_result"
    }
   ],
   "source": [
    "# extract rotations\n",
    "R = []\n",
    "\n",
    "for d in dataset.values():\n",
    "    R.append(d['rotation_to_next'])\n",
    "\n",
    "# remove the last element --- since there is no rotation to the next timepoint\n",
    "R.pop()"
   ]
  },
  {
   "cell_type": "code",
   "execution_count": 14,
   "metadata": {},
   "outputs": [],
   "source": [
    "# export rotations as cell array \n",
    "\n",
    "# Convert rotations to cell array\n",
    "matlab_cell = np.empty((len(R),), dtype=object)\n",
    "for i, arr in enumerate(R):\n",
    "    matlab_cell[i] = arr\n",
    "\n",
    "# Save to a .mat file\n",
    "sio.savemat('movie_12_matlab_cell_array.mat', {'cell_array': matlab_cell})"
   ]
  }
 ],
 "metadata": {
  "kernelspec": {
   "display_name": "base",
   "language": "python",
   "name": "python3"
  },
  "language_info": {
   "codemirror_mode": {
    "name": "ipython",
    "version": 3
   },
   "file_extension": ".py",
   "mimetype": "text/x-python",
   "name": "python",
   "nbconvert_exporter": "python",
   "pygments_lexer": "ipython3",
   "version": "3.8.19"
  }
 },
 "nbformat": 4,
 "nbformat_minor": 2
}
